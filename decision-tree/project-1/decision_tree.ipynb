{
 "cells": [
  {
   "cell_type": "code",
   "execution_count": 5,
   "metadata": {},
   "outputs": [],
   "source": [
    "from sklearn.tree import DecisionTreeClassifier\n",
    "from sklearn.metrics import accuracy_score\n",
    "import pandas as pd\n",
    "from sklearn.preprocessing import LabelEncoder\n",
    "from sklearn.metrics import precision_score, recall_score, f1_score\n",
    "import numpy as np"
   ]
  },
  {
   "cell_type": "code",
   "execution_count": 6,
   "metadata": {},
   "outputs": [],
   "source": [
    "dirty_data = pd.read_csv('loan-train.csv')\n",
    "data = dirty_data.dropna()\n",
    "\n",
    "X = data.drop(columns=['Loan_ID', 'Loan_Status'])\n",
    "y = data['Loan_Status']\n",
    "\n",
    "\n",
    "# Convert categorical variables to numerical using label encoding\n",
    "encoder = LabelEncoder()\n",
    "for feature in X.columns:\n",
    "    if X[feature].dtype == 'object':\n",
    "        X[feature] = encoder.fit_transform(X[feature])"
   ]
  },
  {
   "cell_type": "code",
   "execution_count": 7,
   "metadata": {},
   "outputs": [
    {
     "name": "stdout",
     "output_type": "stream",
     "text": [
      "1.0\n"
     ]
    }
   ],
   "source": [
    "model = DecisionTreeClassifier()\n",
    "model.fit(X, y)\n",
    "y_pred = model.predict(X)\n",
    "\n",
    "acc = accuracy_score(y, y_pred)\n",
    "print(acc)"
   ]
  },
  {
   "cell_type": "code",
   "execution_count": 8,
   "metadata": {},
   "outputs": [
    {
     "name": "stdout",
     "output_type": "stream",
     "text": [
      "Accuracy: 0.735632183908046\n",
      "Precision: 0.8363636363636363\n",
      "Recall: 0.7666666666666667\n",
      "F1 Score: 0.8\n"
     ]
    }
   ],
   "source": [
    "# testing it on another data\n",
    "dirt_test_data = pd.read_csv('loan-test.csv')\n",
    "test_data = dirt_test_data.dropna()\n",
    "\n",
    "X_test = test_data.drop(columns=['Loan_ID', 'Loan_Status'])\n",
    "y_test = test_data['Loan_Status']\n",
    "\n",
    "\n",
    "for feature in X_test.columns:\n",
    "    if X_test[feature].dtype == 'object':\n",
    "        X_test[feature] = encoder.fit_transform(X_test[feature])\n",
    "\n",
    "\n",
    "predictions = model.predict(X_test)\n",
    "accuracy = accuracy_score(y_test, predictions)\n",
    "precision = precision_score(y_test, predictions, pos_label='Y')\n",
    "recall = recall_score(y_test, predictions, pos_label='Y')\n",
    "f1 = f1_score(y_test, predictions, pos_label='Y')\n",
    "\n",
    "print(\"Accuracy:\", accuracy)\n",
    "print(\"Precision:\", precision)\n",
    "print(\"Recall:\", recall)\n",
    "print(\"F1 Score:\", f1)"
   ]
  }
 ],
 "metadata": {
  "kernelspec": {
   "display_name": "venv",
   "language": "python",
   "name": "python3"
  },
  "language_info": {
   "codemirror_mode": {
    "name": "ipython",
    "version": 3
   },
   "file_extension": ".py",
   "mimetype": "text/x-python",
   "name": "python",
   "nbconvert_exporter": "python",
   "pygments_lexer": "ipython3",
   "version": "3.9.7"
  },
  "orig_nbformat": 4
 },
 "nbformat": 4,
 "nbformat_minor": 2
}
