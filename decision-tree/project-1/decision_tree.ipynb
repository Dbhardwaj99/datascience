{
 "cells": [
  {
   "cell_type": "code",
   "execution_count": 1,
   "metadata": {},
   "outputs": [],
   "source": [
    "from sklearn.tree import DecisionTreeClassifier\n",
    "from sklearn.metrics import accuracy_score\n",
    "import pandas as pd\n",
    "from sklearn.preprocessing import LabelEncoder\n",
    "from sklearn.metrics import precision_score, recall_score, f1_score\n",
    "import numpy as np"
   ]
  },
  {
   "cell_type": "code",
   "execution_count": 2,
   "metadata": {},
   "outputs": [],
   "source": [
    "dirty_data = pd.read_csv('loan-train.csv')\n",
    "data = dirty_data.dropna()\n",
    "\n",
    "from sklearn.model_selection import train_test_split\n",
    "\n",
    "X_train, X_test, Y_train, Y_test = train_test_split(data.drop(columns=['Loan_ID', 'Loan_Status']), data['Loan_Status'], random_state= 1)\n",
    "\n",
    "print(\"No of rows in total set: \" + str(data.shape[0]))\n",
    "print(\"No of rows in train set: \" + str(X_train.shape[0]))\n",
    "print(\"No of rows in test set: \" + str(X_test.shape[0]))\n",
    "\n",
    "\n",
    "# Convert categorical variables to numerical using label encoding\n",
    "encoder = LabelEncoder()\n",
    "for feature in X_train.columns:\n",
    "    if X_train[feature].dtype == 'object':\n",
    "        X_train[feature] = encoder.fit_transform(X_train[feature])"
   ]
  },
  {
   "cell_type": "code",
   "execution_count": 3,
   "metadata": {},
   "outputs": [
    {
     "name": "stdout",
     "output_type": "stream",
     "text": [
      "No of rows in total set: 306\n",
      "No of rows in train set: 229\n",
      "No of rows in test set: 77\n"
     ]
    }
   ],
   "source": []
  },
  {
   "cell_type": "code",
   "execution_count": 4,
   "metadata": {},
   "outputs": [
    {
     "name": "stdout",
     "output_type": "stream",
     "text": [
      "1.0\n"
     ]
    }
   ],
   "source": [
    "model = DecisionTreeClassifier()\n",
    "model.fit(X_train, Y_train)\n",
    "y_pred = model.predict(X_train)\n",
    "\n",
    "acc = accuracy_score(Y_train, y_pred)\n",
    "print(acc)"
   ]
  },
  {
   "cell_type": "code",
   "execution_count": 5,
   "metadata": {},
   "outputs": [
    {
     "name": "stdout",
     "output_type": "stream",
     "text": [
      "Accuracy: 0.735632183908046\n",
      "Precision: 0.8363636363636363\n",
      "Recall: 0.7666666666666667\n",
      "F1 Score: 0.8\n"
     ]
    }
   ],
   "source": [
    "# testing it on another data\n",
    "for feature in X_test.columns:\n",
    "    if X_test[feature].dtype == 'object':\n",
    "        X_test[feature] = encoder.fit_transform(X_test[feature])\n",
    "\n",
    "\n",
    "predictions = model.predict(X_test)\n",
    "accuracy = accuracy_score(Y_test, predictions)\n",
    "precision = precision_score(Y_test, predictions, pos_label='Y')\n",
    "recall = recall_score(Y_test, predictions, pos_label='Y')\n",
    "f1 = f1_score(Y_test, predictions, pos_label='Y')\n",
    "\n",
    "print(\"Accuracy:\", accuracy)\n",
    "print(\"Precision:\", precision)\n",
    "print(\"Recall:\", recall)\n",
    "print(\"F1 Score:\", f1)"
   ]
  }
 ],
 "metadata": {
  "kernelspec": {
   "display_name": "venv",
   "language": "python",
   "name": "python3"
  },
  "language_info": {
   "codemirror_mode": {
    "name": "ipython",
    "version": 3
   },
   "file_extension": ".py",
   "mimetype": "text/x-python",
   "name": "python",
   "nbconvert_exporter": "python",
   "pygments_lexer": "ipython3",
   "version": "3.9.7"
  },
  "orig_nbformat": 4
 },
 "nbformat": 4,
 "nbformat_minor": 2
}
